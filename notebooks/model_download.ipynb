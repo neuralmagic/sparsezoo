{
 "cells": [
  {
   "cell_type": "code",
   "execution_count": null,
   "metadata": {},
   "outputs": [],
   "source": []
  },
  {
   "cell_type": "markdown",
   "metadata": {},
   "source": [
    "© 2021 Neuralmagic, Inc. // [Neural Magic Legal](https://neuralmagic.com/legal)\n",
    "# Downloading from Sparsezoo\n",
    "\n",
    "This notebook provides an easy step-by-step walkthrough for downloading a model from the Sparsezoo model repository. You will:\n",
    "- Set up the environment\n",
    "- Select a model\n",
    "- Download the model\n",
    "\n",
    "Reading through this notebook will quickly provide an overview of the pretrained, performance-tuned models available in the Sparsezoo. This will take approximately:\n",
    "- 15 minutes\n",
    "\n",
    "# Background\n",
    "Neural networks can take a long time to train. Model sparsification techniques such as model pruning may be necessary to achieve both performance and sparsification goals. However, the sparsification of models can involve many trials and errors due to a large number of hyperparameters. Fortunately, in the computer vision and natural language space, pruned (sparsiﬁed) neural networks transfer learn.\n",
    "\n",
    "To make it easier to use pruned models, Neural Magic is actively:\n",
    "- Creating pruned versions of popular models and datasets\n",
    "- Thoroughly testing these models with the DeepSparse Engine to ensure performance\n",
    "- Updating the Sparsezoo Repo with these models and datasets\n"
   ]
  },
  {
   "cell_type": "markdown",
   "metadata": {},
   "source": [
    "## Step 1 - Setting Up the Environment\n",
    "\n",
    "In this step, Neural Magic checks your environment setup to ensure the rest of the notebook will flow smoothly.\n",
    "Before running, install the sparsezoo package into the system using the following at the parent of the package directory:\n",
    "\n",
    "`pip install sparsezoo/ `\n"
   ]
  },
  {
   "cell_type": "code",
   "execution_count": null,
   "metadata": {
    "scrolled": false
   },
   "outputs": [],
   "source": [
    "notebook_name = \"model_repo\"\n",
    "print(\"checking setup for {}...\".format(notebook_name))\n",
    "\n",
    "# filter because of tensorboard future warnings\n",
    "import warnings\n",
    "warnings.filterwarnings(\"ignore\", category=FutureWarning)\n",
    "\n",
    "try:\n",
    "    # make sure sparsezoo is installed\n",
    "    import sparsezoo\n",
    "except Exception as ex:\n",
    "    raise Exception(\n",
    "        \"please install sparsezoo using the setup.py file before continuing\"\n",
    "    )"
   ]
  },
  {
   "cell_type": "markdown",
   "metadata": {},
   "source": [
    "## Step 2 - Selecting a Model\n",
    "\n",
    "Repositories may hold many models, so a simple UI is provided to make this selection process easier. Within the UI, ﬁlters can be applied for models trained in/on speciﬁc domains or datasets. Each network architecture listed will also include options for the dataset it was trained on, ML frameworks (ONNX, PyTorch, TensorFlow, Keras), and the type."
   ]
  },
  {
   "cell_type": "code",
   "execution_count": null,
   "metadata": {},
   "outputs": [],
   "source": [
    "from sparsezoo.nbutils import SelectDomainWidgetContainer\n",
    "\n",
    "print(\"creating  domain select ui...\")\n",
    "domain_container = SelectDomainWidgetContainer()\n",
    "display(domain_container.create())"
   ]
  },
  {
   "cell_type": "code",
   "execution_count": null,
   "metadata": {},
   "outputs": [],
   "source": [
    "import os\n",
    "from sparsezoo import Zoo\n",
    "from sparsezoo.utils import clean_path\n",
    "from sparsezoo.nbutils import ModelSelectWidgetContainer\n",
    "\n",
    "domain, sub_domain = domain_container.selected_domain_info\n",
    "override_parent_path = clean_path(os.path.join(\".\", notebook_name))\n",
    "\n",
    "print(\"searching for models...\")\n",
    "models = Zoo.search_models(domain, sub_domain, override_parent_path=override_parent_path)\n",
    "\n",
    "print(\"creating model select ui...\")\n",
    "container = ModelSelectWidgetContainer(models)\n",
    "display(container.create())"
   ]
  },
  {
   "cell_type": "markdown",
   "metadata": {},
   "source": [
    "### Step 3 - Downloading the Model\n",
    "\n",
    "After making a model selection, run the cell block below to download the model locally. By default, it will save the model to an appropriately named folder under the current working directory. You can change the save_dir if you'd like to save to another location on the local system.\n"
   ]
  },
  {
   "cell_type": "code",
   "execution_count": null,
   "metadata": {},
   "outputs": [],
   "source": [
    "import os\n",
    "\n",
    "model = container.selected_model\n",
    "\n",
    "print(\"Downloading model...\")\n",
    "model.download(overwrite=True)"
   ]
  },
  {
   "cell_type": "markdown",
   "metadata": {},
   "source": [
    "## Next Step\n",
    "\n",
    "You may want to explore one of these paths:\n",
    "- Optimize the model further with the SparseML package\n",
    "- Test the performance in an inference engine that supports sparsity such as the DeepSparse Engine\n"
   ]
  }
 ],
 "metadata": {
  "kernelspec": {
   "display_name": "Python 3",
   "language": "python",
   "name": "python3"
  },
  "language_info": {
   "codemirror_mode": {
    "name": "ipython",
    "version": 3
   },
   "file_extension": ".py",
   "mimetype": "text/x-python",
   "name": "python",
   "nbconvert_exporter": "python",
   "pygments_lexer": "ipython3",
   "version": "3.6.8"
  }
 },
 "nbformat": 4,
 "nbformat_minor": 4
}